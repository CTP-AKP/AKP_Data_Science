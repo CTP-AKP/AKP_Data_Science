{
 "cells": [
  {
   "cell_type": "code",
   "execution_count": 2,
   "id": "7c7ced02",
   "metadata": {},
   "outputs": [],
   "source": [
    "import os"
   ]
  },
  {
   "cell_type": "code",
   "execution_count": 7,
   "id": "165abc6d",
   "metadata": {},
   "outputs": [
    {
     "data": {
      "text/plain": [
       "['1 Home_max_slidebar.py',\n",
       " '10 Publisher.py',\n",
       " '11 ForcaSteam.py',\n",
       " '12 Tensorflow.py',\n",
       " '13 switch_page_text.py',\n",
       " '2 Category.py',\n",
       " '3 Genre.py',\n",
       " '4 DLC_Counts.py',\n",
       " '5 Price.py',\n",
       " '6 Age_Restriction.py',\n",
       " '7 Settings.py',\n",
       " '8 OS.py',\n",
       " '9 Developer.py']"
      ]
     },
     "execution_count": 7,
     "metadata": {},
     "output_type": "execute_result"
    }
   ],
   "source": [
    "# os.listdir('.\\pages')\n",
    "os.listdir('..\\pages')"
   ]
  },
  {
   "cell_type": "code",
   "execution_count": null,
   "id": "d7b8a756",
   "metadata": {},
   "outputs": [],
   "source": []
  }
 ],
 "metadata": {
  "kernelspec": {
   "display_name": "Python 3 (ipykernel)",
   "language": "python",
   "name": "python3"
  },
  "language_info": {
   "codemirror_mode": {
    "name": "ipython",
    "version": 3
   },
   "file_extension": ".py",
   "mimetype": "text/x-python",
   "name": "python",
   "nbconvert_exporter": "python",
   "pygments_lexer": "ipython3",
   "version": "3.11.5"
  }
 },
 "nbformat": 4,
 "nbformat_minor": 5
}
