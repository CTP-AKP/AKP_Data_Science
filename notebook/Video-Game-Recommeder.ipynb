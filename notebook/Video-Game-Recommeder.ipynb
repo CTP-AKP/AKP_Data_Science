{
 "cells": [
  {
   "cell_type": "code",
   "execution_count": 1,
   "metadata": {},
   "outputs": [],
   "source": [
    "import pandas as pd\n",
    "import numpy as np\n",
    "import scipy as sp\n",
    "from scipy import sparse\n",
    "from collections import Counter\n",
    "from sklearn.preprocessing import MinMaxScaler\n",
    "\n",
    "from sklearn.neighbors import NearestNeighbors\n",
    "from sklearn.metrics.pairwise import cosine_similarity\n",
    "from sklearn.feature_extraction.text import TfidfVectorizer\n",
    "from sklearn.metrics.pairwise import linear_kernel"
   ]
  },
  {
   "cell_type": "code",
   "execution_count": 2,
   "metadata": {},
   "outputs": [
    {
     "data": {
      "text/plain": [
       "Index(['AppID', 'Name', 'Release date', 'Estimated owners', 'Peak CCU',\n",
       "       'Required age', 'Price', 'DLC count', 'About the game',\n",
       "       'Supported languages', 'Full audio languages', 'Reviews',\n",
       "       'Header image', 'Website', 'Support url', 'Support email', 'Windows',\n",
       "       'Mac', 'Linux', 'Metacritic score', 'Metacritic url', 'User score',\n",
       "       'Positive', 'Negative', 'Score rank', 'Achievements', 'Recommendations',\n",
       "       'Notes', 'Average playtime forever', 'Average playtime two weeks',\n",
       "       'Median playtime forever', 'Median playtime two weeks', 'Developers',\n",
       "       'Publishers', 'Categories', 'Genres', 'Tags', 'Screenshots', 'Movies'],\n",
       "      dtype='object')"
      ]
     },
     "execution_count": 2,
     "metadata": {},
     "output_type": "execute_result"
    }
   ],
   "source": [
    "df = pd.read_csv('../data\\games.csv')\n",
    "df.columns"
   ]
  },
  {
   "cell_type": "code",
   "execution_count": 3,
   "metadata": {},
   "outputs": [
    {
     "data": {
      "text/html": [
       "<div>\n",
       "<style scoped>\n",
       "    .dataframe tbody tr th:only-of-type {\n",
       "        vertical-align: middle;\n",
       "    }\n",
       "\n",
       "    .dataframe tbody tr th {\n",
       "        vertical-align: top;\n",
       "    }\n",
       "\n",
       "    .dataframe thead th {\n",
       "        text-align: right;\n",
       "    }\n",
       "</style>\n",
       "<table border=\"1\" class=\"dataframe\">\n",
       "  <thead>\n",
       "    <tr style=\"text-align: right;\">\n",
       "      <th></th>\n",
       "      <th>AppID</th>\n",
       "      <th>Name</th>\n",
       "      <th>Release date</th>\n",
       "      <th>Estimated owners</th>\n",
       "      <th>Peak CCU</th>\n",
       "      <th>Required age</th>\n",
       "      <th>Price</th>\n",
       "      <th>DLC count</th>\n",
       "      <th>About the game</th>\n",
       "      <th>Supported languages</th>\n",
       "      <th>...</th>\n",
       "      <th>Average playtime two weeks</th>\n",
       "      <th>Median playtime forever</th>\n",
       "      <th>Median playtime two weeks</th>\n",
       "      <th>Developers</th>\n",
       "      <th>Publishers</th>\n",
       "      <th>Categories</th>\n",
       "      <th>Genres</th>\n",
       "      <th>Tags</th>\n",
       "      <th>Screenshots</th>\n",
       "      <th>Movies</th>\n",
       "    </tr>\n",
       "  </thead>\n",
       "  <tbody>\n",
       "    <tr>\n",
       "      <th>0</th>\n",
       "      <td>20200</td>\n",
       "      <td>Galactic Bowling</td>\n",
       "      <td>Oct 21, 2008</td>\n",
       "      <td>0 - 20000</td>\n",
       "      <td>0</td>\n",
       "      <td>0</td>\n",
       "      <td>19.99</td>\n",
       "      <td>0</td>\n",
       "      <td>Galactic Bowling is an exaggerated and stylize...</td>\n",
       "      <td>['English']</td>\n",
       "      <td>...</td>\n",
       "      <td>0</td>\n",
       "      <td>0</td>\n",
       "      <td>0</td>\n",
       "      <td>Perpetual FX Creative</td>\n",
       "      <td>Perpetual FX Creative</td>\n",
       "      <td>Single-player,Multi-player,Steam Achievements,...</td>\n",
       "      <td>Casual,Indie,Sports</td>\n",
       "      <td>Indie,Casual,Sports,Bowling</td>\n",
       "      <td>https://cdn.akamai.steamstatic.com/steam/apps/...</td>\n",
       "      <td>http://cdn.akamai.steamstatic.com/steam/apps/2...</td>\n",
       "    </tr>\n",
       "    <tr>\n",
       "      <th>1</th>\n",
       "      <td>655370</td>\n",
       "      <td>Train Bandit</td>\n",
       "      <td>Oct 12, 2017</td>\n",
       "      <td>0 - 20000</td>\n",
       "      <td>0</td>\n",
       "      <td>0</td>\n",
       "      <td>0.99</td>\n",
       "      <td>0</td>\n",
       "      <td>THE LAW!! Looks to be a showdown atop a train....</td>\n",
       "      <td>['English', 'French', 'Italian', 'German', 'Sp...</td>\n",
       "      <td>...</td>\n",
       "      <td>0</td>\n",
       "      <td>0</td>\n",
       "      <td>0</td>\n",
       "      <td>Rusty Moyher</td>\n",
       "      <td>Wild Rooster</td>\n",
       "      <td>Single-player,Steam Achievements,Full controll...</td>\n",
       "      <td>Action,Indie</td>\n",
       "      <td>Indie,Action,Pixel Graphics,2D,Retro,Arcade,Sc...</td>\n",
       "      <td>https://cdn.akamai.steamstatic.com/steam/apps/...</td>\n",
       "      <td>http://cdn.akamai.steamstatic.com/steam/apps/2...</td>\n",
       "    </tr>\n",
       "    <tr>\n",
       "      <th>2</th>\n",
       "      <td>1732930</td>\n",
       "      <td>Jolt Project</td>\n",
       "      <td>Nov 17, 2021</td>\n",
       "      <td>0 - 20000</td>\n",
       "      <td>0</td>\n",
       "      <td>0</td>\n",
       "      <td>4.99</td>\n",
       "      <td>0</td>\n",
       "      <td>Jolt Project: The army now has a new robotics ...</td>\n",
       "      <td>['English', 'Portuguese - Brazil']</td>\n",
       "      <td>...</td>\n",
       "      <td>0</td>\n",
       "      <td>0</td>\n",
       "      <td>0</td>\n",
       "      <td>Campião Games</td>\n",
       "      <td>Campião Games</td>\n",
       "      <td>Single-player</td>\n",
       "      <td>Action,Adventure,Indie,Strategy</td>\n",
       "      <td>NaN</td>\n",
       "      <td>https://cdn.akamai.steamstatic.com/steam/apps/...</td>\n",
       "      <td>http://cdn.akamai.steamstatic.com/steam/apps/2...</td>\n",
       "    </tr>\n",
       "    <tr>\n",
       "      <th>3</th>\n",
       "      <td>1355720</td>\n",
       "      <td>Henosis™</td>\n",
       "      <td>Jul 23, 2020</td>\n",
       "      <td>0 - 20000</td>\n",
       "      <td>0</td>\n",
       "      <td>0</td>\n",
       "      <td>5.99</td>\n",
       "      <td>0</td>\n",
       "      <td>HENOSIS™ is a mysterious 2D Platform Puzzler w...</td>\n",
       "      <td>['English', 'French', 'Italian', 'German', 'Sp...</td>\n",
       "      <td>...</td>\n",
       "      <td>0</td>\n",
       "      <td>0</td>\n",
       "      <td>0</td>\n",
       "      <td>Odd Critter Games</td>\n",
       "      <td>Odd Critter Games</td>\n",
       "      <td>Single-player,Full controller support</td>\n",
       "      <td>Adventure,Casual,Indie</td>\n",
       "      <td>2D Platformer,Atmospheric,Surreal,Mystery,Puzz...</td>\n",
       "      <td>https://cdn.akamai.steamstatic.com/steam/apps/...</td>\n",
       "      <td>http://cdn.akamai.steamstatic.com/steam/apps/2...</td>\n",
       "    </tr>\n",
       "    <tr>\n",
       "      <th>4</th>\n",
       "      <td>1139950</td>\n",
       "      <td>Two Weeks in Painland</td>\n",
       "      <td>Feb 3, 2020</td>\n",
       "      <td>0 - 20000</td>\n",
       "      <td>0</td>\n",
       "      <td>0</td>\n",
       "      <td>0.00</td>\n",
       "      <td>0</td>\n",
       "      <td>ABOUT THE GAME Play as a hacker who has arrang...</td>\n",
       "      <td>['English', 'Spanish - Spain']</td>\n",
       "      <td>...</td>\n",
       "      <td>0</td>\n",
       "      <td>0</td>\n",
       "      <td>0</td>\n",
       "      <td>Unusual Games</td>\n",
       "      <td>Unusual Games</td>\n",
       "      <td>Single-player,Steam Achievements</td>\n",
       "      <td>Adventure,Indie</td>\n",
       "      <td>Indie,Adventure,Nudity,Violent,Sexual Content,...</td>\n",
       "      <td>https://cdn.akamai.steamstatic.com/steam/apps/...</td>\n",
       "      <td>http://cdn.akamai.steamstatic.com/steam/apps/2...</td>\n",
       "    </tr>\n",
       "  </tbody>\n",
       "</table>\n",
       "<p>5 rows × 39 columns</p>\n",
       "</div>"
      ],
      "text/plain": [
       "     AppID                   Name  Release date Estimated owners  Peak CCU  \\\n",
       "0    20200       Galactic Bowling  Oct 21, 2008        0 - 20000         0   \n",
       "1   655370           Train Bandit  Oct 12, 2017        0 - 20000         0   \n",
       "2  1732930           Jolt Project  Nov 17, 2021        0 - 20000         0   \n",
       "3  1355720               Henosis™  Jul 23, 2020        0 - 20000         0   \n",
       "4  1139950  Two Weeks in Painland   Feb 3, 2020        0 - 20000         0   \n",
       "\n",
       "   Required age  Price  DLC count  \\\n",
       "0             0  19.99          0   \n",
       "1             0   0.99          0   \n",
       "2             0   4.99          0   \n",
       "3             0   5.99          0   \n",
       "4             0   0.00          0   \n",
       "\n",
       "                                      About the game  \\\n",
       "0  Galactic Bowling is an exaggerated and stylize...   \n",
       "1  THE LAW!! Looks to be a showdown atop a train....   \n",
       "2  Jolt Project: The army now has a new robotics ...   \n",
       "3  HENOSIS™ is a mysterious 2D Platform Puzzler w...   \n",
       "4  ABOUT THE GAME Play as a hacker who has arrang...   \n",
       "\n",
       "                                 Supported languages  ...  \\\n",
       "0                                        ['English']  ...   \n",
       "1  ['English', 'French', 'Italian', 'German', 'Sp...  ...   \n",
       "2                 ['English', 'Portuguese - Brazil']  ...   \n",
       "3  ['English', 'French', 'Italian', 'German', 'Sp...  ...   \n",
       "4                     ['English', 'Spanish - Spain']  ...   \n",
       "\n",
       "  Average playtime two weeks Median playtime forever  \\\n",
       "0                          0                       0   \n",
       "1                          0                       0   \n",
       "2                          0                       0   \n",
       "3                          0                       0   \n",
       "4                          0                       0   \n",
       "\n",
       "  Median playtime two weeks             Developers             Publishers  \\\n",
       "0                         0  Perpetual FX Creative  Perpetual FX Creative   \n",
       "1                         0           Rusty Moyher           Wild Rooster   \n",
       "2                         0          Campião Games          Campião Games   \n",
       "3                         0      Odd Critter Games      Odd Critter Games   \n",
       "4                         0          Unusual Games          Unusual Games   \n",
       "\n",
       "                                          Categories  \\\n",
       "0  Single-player,Multi-player,Steam Achievements,...   \n",
       "1  Single-player,Steam Achievements,Full controll...   \n",
       "2                                      Single-player   \n",
       "3              Single-player,Full controller support   \n",
       "4                   Single-player,Steam Achievements   \n",
       "\n",
       "                            Genres  \\\n",
       "0              Casual,Indie,Sports   \n",
       "1                     Action,Indie   \n",
       "2  Action,Adventure,Indie,Strategy   \n",
       "3           Adventure,Casual,Indie   \n",
       "4                  Adventure,Indie   \n",
       "\n",
       "                                                Tags  \\\n",
       "0                        Indie,Casual,Sports,Bowling   \n",
       "1  Indie,Action,Pixel Graphics,2D,Retro,Arcade,Sc...   \n",
       "2                                                NaN   \n",
       "3  2D Platformer,Atmospheric,Surreal,Mystery,Puzz...   \n",
       "4  Indie,Adventure,Nudity,Violent,Sexual Content,...   \n",
       "\n",
       "                                         Screenshots  \\\n",
       "0  https://cdn.akamai.steamstatic.com/steam/apps/...   \n",
       "1  https://cdn.akamai.steamstatic.com/steam/apps/...   \n",
       "2  https://cdn.akamai.steamstatic.com/steam/apps/...   \n",
       "3  https://cdn.akamai.steamstatic.com/steam/apps/...   \n",
       "4  https://cdn.akamai.steamstatic.com/steam/apps/...   \n",
       "\n",
       "                                              Movies  \n",
       "0  http://cdn.akamai.steamstatic.com/steam/apps/2...  \n",
       "1  http://cdn.akamai.steamstatic.com/steam/apps/2...  \n",
       "2  http://cdn.akamai.steamstatic.com/steam/apps/2...  \n",
       "3  http://cdn.akamai.steamstatic.com/steam/apps/2...  \n",
       "4  http://cdn.akamai.steamstatic.com/steam/apps/2...  \n",
       "\n",
       "[5 rows x 39 columns]"
      ]
     },
     "execution_count": 3,
     "metadata": {},
     "output_type": "execute_result"
    }
   ],
   "source": [
    "df.head()"
   ]
  },
  {
   "cell_type": "code",
   "execution_count": 4,
   "metadata": {},
   "outputs": [],
   "source": [
    "#df.date.unique()\n",
    "df['Release date'] = pd.to_datetime(df['Release date'], format='%b %d, %Y', errors='coerce')\n",
    "select_cond = df['Peak CCU'] > 0\n",
    "df = df[select_cond]\n",
    "# df_recency = df.sort_values(by='Release date')\n",
    "# df.head()"
   ]
  },
  {
   "cell_type": "code",
   "execution_count": 5,
   "metadata": {},
   "outputs": [
    {
     "data": {
      "text/plain": [
       "AppID                             0\n",
       "Name                              0\n",
       "Release date                     47\n",
       "Estimated owners                  0\n",
       "Peak CCU                          0\n",
       "Required age                      0\n",
       "Price                             0\n",
       "DLC count                         0\n",
       "About the game                   24\n",
       "Supported languages               0\n",
       "Full audio languages              0\n",
       "Reviews                       16461\n",
       "Header image                      0\n",
       "Website                        8047\n",
       "Support url                    8325\n",
       "Support email                  3947\n",
       "Windows                           0\n",
       "Mac                               0\n",
       "Linux                             0\n",
       "Metacritic score                  0\n",
       "Metacritic url                17946\n",
       "User score                        0\n",
       "Positive                          0\n",
       "Negative                          0\n",
       "Score rank                    20908\n",
       "Achievements                      0\n",
       "Recommendations                   0\n",
       "Notes                         17018\n",
       "Average playtime forever          0\n",
       "Average playtime two weeks        0\n",
       "Median playtime forever           0\n",
       "Median playtime two weeks         0\n",
       "Developers                        0\n",
       "Publishers                       68\n",
       "Categories                      305\n",
       "Genres                           19\n",
       "Tags                           1706\n",
       "Screenshots                       2\n",
       "Movies                         1187\n",
       "dtype: int64"
      ]
     },
     "execution_count": 5,
     "metadata": {},
     "output_type": "execute_result"
    }
   ],
   "source": [
    "df.isna().sum()"
   ]
  },
  {
   "cell_type": "code",
   "execution_count": 6,
   "metadata": {},
   "outputs": [
    {
     "data": {
      "text/plain": [
       "(20926, 39)"
      ]
     },
     "execution_count": 6,
     "metadata": {},
     "output_type": "execute_result"
    }
   ],
   "source": [
    "df.shape"
   ]
  },
  {
   "cell_type": "code",
   "execution_count": 7,
   "metadata": {},
   "outputs": [
    {
     "data": {
      "text/plain": [
       "(20926, 32)"
      ]
     },
     "execution_count": 7,
     "metadata": {},
     "output_type": "execute_result"
    }
   ],
   "source": [
    "percent = .90\n",
    "column_percentages = df.count() / len(df)\n",
    "\n",
    "df = df.dropna(axis=1, thresh=len(df) * percent)\n",
    "df.shape"
   ]
  },
  {
   "cell_type": "code",
   "execution_count": 8,
   "metadata": {},
   "outputs": [
    {
     "data": {
      "text/plain": [
       "AppID                            0\n",
       "Name                             0\n",
       "Release date                    47\n",
       "Estimated owners                 0\n",
       "Peak CCU                         0\n",
       "Required age                     0\n",
       "Price                            0\n",
       "DLC count                        0\n",
       "About the game                  24\n",
       "Supported languages              0\n",
       "Full audio languages             0\n",
       "Header image                     0\n",
       "Windows                          0\n",
       "Mac                              0\n",
       "Linux                            0\n",
       "Metacritic score                 0\n",
       "User score                       0\n",
       "Positive                         0\n",
       "Negative                         0\n",
       "Achievements                     0\n",
       "Recommendations                  0\n",
       "Average playtime forever         0\n",
       "Average playtime two weeks       0\n",
       "Median playtime forever          0\n",
       "Median playtime two weeks        0\n",
       "Developers                       0\n",
       "Publishers                      68\n",
       "Categories                     305\n",
       "Genres                          19\n",
       "Tags                          1706\n",
       "Screenshots                      2\n",
       "Movies                        1187\n",
       "dtype: int64"
      ]
     },
     "execution_count": 8,
     "metadata": {},
     "output_type": "execute_result"
    }
   ],
   "source": [
    "df.isna().sum()"
   ]
  },
  {
   "cell_type": "code",
   "execution_count": 9,
   "metadata": {},
   "outputs": [
    {
     "data": {
      "text/plain": [
       "(17728, 32)"
      ]
     },
     "execution_count": 9,
     "metadata": {},
     "output_type": "execute_result"
    }
   ],
   "source": [
    "df.dropna(inplace=True)\n",
    "df.shape"
   ]
  },
  {
   "cell_type": "code",
   "execution_count": 10,
   "metadata": {},
   "outputs": [],
   "source": [
    "column_object = df.dtypes[df.dtypes == 'object'].keys()"
   ]
  },
  {
   "cell_type": "code",
   "execution_count": 11,
   "metadata": {},
   "outputs": [
    {
     "data": {
      "text/plain": [
       "Index(['Name', 'Estimated owners', 'About the game', 'Header image',\n",
       "       'Developers', 'Publishers', 'Tags', 'Screenshots', 'Movies'],\n",
       "      dtype='object')"
      ]
     },
     "execution_count": 11,
     "metadata": {},
     "output_type": "execute_result"
    }
   ],
   "source": [
    "multi_label_columns = ['Genres','Supported languages','Full audio languages','Categories']\n",
    "column_object = column_object.drop(multi_label_columns)\n",
    "column_object"
   ]
  },
  {
   "cell_type": "code",
   "execution_count": 12,
   "metadata": {},
   "outputs": [
    {
     "data": {
      "text/plain": [
       "['Name',\n",
       " 'Estimated owners',\n",
       " 'About the game',\n",
       " 'Supported languages',\n",
       " 'Full audio languages',\n",
       " 'Header image',\n",
       " 'Developers',\n",
       " 'Publishers',\n",
       " 'Categories',\n",
       " 'Genres',\n",
       " 'Tags',\n",
       " 'Screenshots',\n",
       " 'Movies']"
      ]
     },
     "execution_count": 12,
     "metadata": {},
     "output_type": "execute_result"
    }
   ],
   "source": [
    "li = list(df.dtypes[df.dtypes == 'object'].keys())\n",
    "li"
   ]
  },
  {
   "cell_type": "code",
   "execution_count": 13,
   "metadata": {},
   "outputs": [
    {
     "data": {
      "text/plain": [
       "AppID                         0\n",
       "Name                          0\n",
       "Release date                  0\n",
       "Estimated owners              0\n",
       "Peak CCU                      0\n",
       "Required age                  0\n",
       "Price                         0\n",
       "DLC count                     0\n",
       "About the game                0\n",
       "Supported languages           0\n",
       "Full audio languages          0\n",
       "Header image                  0\n",
       "Windows                       0\n",
       "Mac                           0\n",
       "Linux                         0\n",
       "Metacritic score              0\n",
       "User score                    0\n",
       "Positive                      0\n",
       "Negative                      0\n",
       "Achievements                  0\n",
       "Recommendations               0\n",
       "Average playtime forever      0\n",
       "Average playtime two weeks    0\n",
       "Median playtime forever       0\n",
       "Median playtime two weeks     0\n",
       "Developers                    0\n",
       "Publishers                    0\n",
       "Categories                    0\n",
       "Genres                        0\n",
       "Tags                          0\n",
       "Screenshots                   0\n",
       "Movies                        0\n",
       "dtype: int64"
      ]
     },
     "execution_count": 13,
     "metadata": {},
     "output_type": "execute_result"
    }
   ],
   "source": [
    "# df['Categories'] = df['Categories'].str.split(',')\n",
    "# df['Genres'] = df['Genres'].str.split(',')\n",
    "df.isna().sum()"
   ]
  },
  {
   "cell_type": "code",
   "execution_count": 14,
   "metadata": {},
   "outputs": [],
   "source": [
    "tf = TfidfVectorizer()\n",
    "text_data_about = df['About the game'].astype(str)\n",
    "text_data_genre = df['Genres'].astype(str)\n",
    "text_data_categories = df['Categories'].astype(str)\n",
    "text_data_developers = df['Developers'].astype(str)\n",
    "text_data_title = df['Name'].astype(str)\n",
    "text_data = text_data_about + ' ' + text_data_genre + ' ' + text_data_developers + ' ' +  text_data_categories + ' ' + text_data_title\n",
    "tfidf_matrix = tf.fit_transform(text_data)\n",
    "similarity_matrix = cosine_similarity(tfidf_matrix,tfidf_matrix)\n"
   ]
  },
  {
   "cell_type": "code",
   "execution_count": 15,
   "metadata": {},
   "outputs": [],
   "source": [
    "def CosineGameRecommended(gamename:str, tfidf_vectorizer, similarity_matrix, df, recommended_games:int=5):\n",
    "    # Reset the index to ensure it is continuous\n",
    "    df_reset = df.reset_index(drop=True)\n",
    "\n",
    "    # Combine text data from 'About the game' and 'Genres'\n",
    "    text_data_combined = df_reset['About the game'].astype(str) + ' ' + df_reset['Genres'].astype(str) + ' ' + df_reset['Categories'].astype(str)  + ' ' + df_reset['Developers'].astype(str)  + ' ' + df_reset['Name'].astype(str) \n",
    "\n",
    "    # Transform the combined text data into a TF-IDF vector\n",
    "    game_tfidf_vector = tfidf_vectorizer.transform([text_data_combined[df_reset['Name'] == gamename].values[0]])\n",
    "\n",
    "    # Calculate cosine similarity for the given game vector\n",
    "    similarity_scores = cosine_similarity(game_tfidf_vector, tfidf_matrix).flatten()\n",
    "\n",
    "    # Get the indices of games with the highest similarity scores\n",
    "    top_indices = np.argsort(similarity_scores)[-recommended_games-1:-1][::-1]\n",
    "\n",
    "    # Retrieve corresponding games using the reset index\n",
    "    top_games = df_reset.loc[top_indices, 'Name'].tolist()\n",
    "\n",
    "    return pd.DataFrame(top_games)"
   ]
  },
  {
   "cell_type": "code",
   "execution_count": 16,
   "metadata": {},
   "outputs": [
    {
     "name": "stdout",
     "output_type": "stream",
     "text": [
      "Top Recommendations:                             0\n",
      "0  Assetto Corsa Competizione\n",
      "1    GTR 2 FIA GT Racing Game\n",
      "2             LOTUS-Simulator\n",
      "3       Classic Sport Driving\n",
      "4  Victory: The Age of Racing\n"
     ]
    }
   ],
   "source": [
    "recommendations = CosineGameRecommended('Call of Duty', tf, similarity_matrix, df)\n",
    "print(\"Top Recommendations:\", recommendations)"
   ]
  },
  {
   "cell_type": "code",
   "execution_count": null,
   "metadata": {},
   "outputs": [
    {
     "data": {
      "text/html": [
       "<style>#sk-container-id-7 {color: black;}#sk-container-id-7 pre{padding: 0;}#sk-container-id-7 div.sk-toggleable {background-color: white;}#sk-container-id-7 label.sk-toggleable__label {cursor: pointer;display: block;width: 100%;margin-bottom: 0;padding: 0.3em;box-sizing: border-box;text-align: center;}#sk-container-id-7 label.sk-toggleable__label-arrow:before {content: \"▸\";float: left;margin-right: 0.25em;color: #696969;}#sk-container-id-7 label.sk-toggleable__label-arrow:hover:before {color: black;}#sk-container-id-7 div.sk-estimator:hover label.sk-toggleable__label-arrow:before {color: black;}#sk-container-id-7 div.sk-toggleable__content {max-height: 0;max-width: 0;overflow: hidden;text-align: left;background-color: #f0f8ff;}#sk-container-id-7 div.sk-toggleable__content pre {margin: 0.2em;color: black;border-radius: 0.25em;background-color: #f0f8ff;}#sk-container-id-7 input.sk-toggleable__control:checked~div.sk-toggleable__content {max-height: 200px;max-width: 100%;overflow: auto;}#sk-container-id-7 input.sk-toggleable__control:checked~label.sk-toggleable__label-arrow:before {content: \"▾\";}#sk-container-id-7 div.sk-estimator input.sk-toggleable__control:checked~label.sk-toggleable__label {background-color: #d4ebff;}#sk-container-id-7 div.sk-label input.sk-toggleable__control:checked~label.sk-toggleable__label {background-color: #d4ebff;}#sk-container-id-7 input.sk-hidden--visually {border: 0;clip: rect(1px 1px 1px 1px);clip: rect(1px, 1px, 1px, 1px);height: 1px;margin: -1px;overflow: hidden;padding: 0;position: absolute;width: 1px;}#sk-container-id-7 div.sk-estimator {font-family: monospace;background-color: #f0f8ff;border: 1px dotted black;border-radius: 0.25em;box-sizing: border-box;margin-bottom: 0.5em;}#sk-container-id-7 div.sk-estimator:hover {background-color: #d4ebff;}#sk-container-id-7 div.sk-parallel-item::after {content: \"\";width: 100%;border-bottom: 1px solid gray;flex-grow: 1;}#sk-container-id-7 div.sk-label:hover label.sk-toggleable__label {background-color: #d4ebff;}#sk-container-id-7 div.sk-serial::before {content: \"\";position: absolute;border-left: 1px solid gray;box-sizing: border-box;top: 0;bottom: 0;left: 50%;z-index: 0;}#sk-container-id-7 div.sk-serial {display: flex;flex-direction: column;align-items: center;background-color: white;padding-right: 0.2em;padding-left: 0.2em;position: relative;}#sk-container-id-7 div.sk-item {position: relative;z-index: 1;}#sk-container-id-7 div.sk-parallel {display: flex;align-items: stretch;justify-content: center;background-color: white;position: relative;}#sk-container-id-7 div.sk-item::before, #sk-container-id-7 div.sk-parallel-item::before {content: \"\";position: absolute;border-left: 1px solid gray;box-sizing: border-box;top: 0;bottom: 0;left: 50%;z-index: -1;}#sk-container-id-7 div.sk-parallel-item {display: flex;flex-direction: column;z-index: 1;position: relative;background-color: white;}#sk-container-id-7 div.sk-parallel-item:first-child::after {align-self: flex-end;width: 50%;}#sk-container-id-7 div.sk-parallel-item:last-child::after {align-self: flex-start;width: 50%;}#sk-container-id-7 div.sk-parallel-item:only-child::after {width: 0;}#sk-container-id-7 div.sk-dashed-wrapped {border: 1px dashed gray;margin: 0 0.4em 0.5em 0.4em;box-sizing: border-box;padding-bottom: 0.4em;background-color: white;}#sk-container-id-7 div.sk-label label {font-family: monospace;font-weight: bold;display: inline-block;line-height: 1.2em;}#sk-container-id-7 div.sk-label-container {text-align: center;}#sk-container-id-7 div.sk-container {/* jupyter's `normalize.less` sets `[hidden] { display: none; }` but bootstrap.min.css set `[hidden] { display: none !important; }` so we also need the `!important` here to be able to override the default hidden behavior on the sphinx rendered scikit-learn.org. See: https://github.com/scikit-learn/scikit-learn/issues/21755 */display: inline-block !important;position: relative;}#sk-container-id-7 div.sk-text-repr-fallback {display: none;}</style><div id=\"sk-container-id-7\" class=\"sk-top-container\"><div class=\"sk-text-repr-fallback\"><pre>NearestNeighbors(metric=&#x27;euclidean&#x27;)</pre><b>In a Jupyter environment, please rerun this cell to show the HTML representation or trust the notebook. <br />On GitHub, the HTML representation is unable to render, please try loading this page with nbviewer.org.</b></div><div class=\"sk-container\" hidden><div class=\"sk-item\"><div class=\"sk-estimator sk-toggleable\"><input class=\"sk-toggleable__control sk-hidden--visually\" id=\"sk-estimator-id-7\" type=\"checkbox\" checked><label for=\"sk-estimator-id-7\" class=\"sk-toggleable__label sk-toggleable__label-arrow\">NearestNeighbors</label><div class=\"sk-toggleable__content\"><pre>NearestNeighbors(metric=&#x27;euclidean&#x27;)</pre></div></div></div></div></div>"
      ],
      "text/plain": [
       "NearestNeighbors(metric='euclidean')"
      ]
     },
     "execution_count": 257,
     "metadata": {},
     "output_type": "execute_result"
    }
   ],
   "source": [
    "\n",
    "# Model initiation\n",
    "model = NearestNeighbors(metric='euclidean')\n",
    "\n",
    "# Fit model to the data\n",
    "model.fit(df)"
   ]
  },
  {
   "cell_type": "code",
   "execution_count": null,
   "metadata": {},
   "outputs": [],
   "source": [
    "\n",
    "def getRecommended(gamename: str):\n",
    "    distances, neighbors = model.kneighbors(df.loc[gamename].values.reshape(1, -1), n_neighbors=5)\n",
    "    \n",
    "    similar_games = []\n",
    "    for index in neighbors[0][1:]:\n",
    "        similar_games.append(df.index[index])\n",
    "    \n",
    "    similar_distance = [f\"{distance}%\" for distance in distances[0][1:]]\n",
    "    \n",
    "    return pd.DataFrame(data={\"Game\": similar_games, \"Similarity\": similar_distance})\n",
    "\n"
   ]
  },
  {
   "cell_type": "code",
   "execution_count": null,
   "metadata": {},
   "outputs": [
    {
     "name": "stderr",
     "output_type": "stream",
     "text": [
      "c:\\Users\\dsouz\\anaconda3\\Lib\\site-packages\\sklearn\\base.py:464: UserWarning: X does not have valid feature names, but NearestNeighbors was fitted with feature names\n",
      "  warnings.warn(\n"
     ]
    },
    {
     "data": {
      "text/html": [
       "<div>\n",
       "<style scoped>\n",
       "    .dataframe tbody tr th:only-of-type {\n",
       "        vertical-align: middle;\n",
       "    }\n",
       "\n",
       "    .dataframe tbody tr th {\n",
       "        vertical-align: top;\n",
       "    }\n",
       "\n",
       "    .dataframe thead th {\n",
       "        text-align: right;\n",
       "    }\n",
       "</style>\n",
       "<table border=\"1\" class=\"dataframe\">\n",
       "  <thead>\n",
       "    <tr style=\"text-align: right;\">\n",
       "      <th></th>\n",
       "      <th>Game</th>\n",
       "      <th>Similarity</th>\n",
       "    </tr>\n",
       "  </thead>\n",
       "  <tbody>\n",
       "    <tr>\n",
       "      <th>0</th>\n",
       "      <td>No Man's Sky</td>\n",
       "      <td>31709.169115572866%</td>\n",
       "    </tr>\n",
       "    <tr>\n",
       "      <th>1</th>\n",
       "      <td>Lost Ark</td>\n",
       "      <td>42741.10588414974%</td>\n",
       "    </tr>\n",
       "    <tr>\n",
       "      <th>2</th>\n",
       "      <td>Sid Meier’s Civilization® VI</td>\n",
       "      <td>48868.443058890305%</td>\n",
       "    </tr>\n",
       "    <tr>\n",
       "      <th>3</th>\n",
       "      <td>VRChat</td>\n",
       "      <td>51675.956132422936%</td>\n",
       "    </tr>\n",
       "  </tbody>\n",
       "</table>\n",
       "</div>"
      ],
      "text/plain": [
       "                           Game           Similarity\n",
       "0                  No Man's Sky  31709.169115572866%\n",
       "1                      Lost Ark   42741.10588414974%\n",
       "2  Sid Meier’s Civilization® VI  48868.443058890305%\n",
       "3                        VRChat  51675.956132422936%"
      ]
     },
     "execution_count": 259,
     "metadata": {},
     "output_type": "execute_result"
    }
   ],
   "source": [
    "\n",
    "getRecommended('New World')\n"
   ]
  },
  {
   "cell_type": "code",
   "execution_count": null,
   "metadata": {},
   "outputs": [
    {
     "data": {
      "text/html": [
       "<div>\n",
       "<style scoped>\n",
       "    .dataframe tbody tr th:only-of-type {\n",
       "        vertical-align: middle;\n",
       "    }\n",
       "\n",
       "    .dataframe tbody tr th {\n",
       "        vertical-align: top;\n",
       "    }\n",
       "\n",
       "    .dataframe thead th {\n",
       "        text-align: right;\n",
       "    }\n",
       "</style>\n",
       "<table border=\"1\" class=\"dataframe\">\n",
       "  <thead>\n",
       "    <tr style=\"text-align: right;\">\n",
       "      <th></th>\n",
       "      <th>0</th>\n",
       "      <th>1</th>\n",
       "      <th>2</th>\n",
       "      <th>3</th>\n",
       "      <th>4</th>\n",
       "      <th>5</th>\n",
       "      <th>6</th>\n",
       "      <th>7</th>\n",
       "      <th>8</th>\n",
       "      <th>9</th>\n",
       "      <th>...</th>\n",
       "      <th>17718</th>\n",
       "      <th>17719</th>\n",
       "      <th>17720</th>\n",
       "      <th>17721</th>\n",
       "      <th>17722</th>\n",
       "      <th>17723</th>\n",
       "      <th>17724</th>\n",
       "      <th>17725</th>\n",
       "      <th>17726</th>\n",
       "      <th>17727</th>\n",
       "    </tr>\n",
       "    <tr>\n",
       "      <th>Name</th>\n",
       "      <th></th>\n",
       "      <th></th>\n",
       "      <th></th>\n",
       "      <th></th>\n",
       "      <th></th>\n",
       "      <th></th>\n",
       "      <th></th>\n",
       "      <th></th>\n",
       "      <th></th>\n",
       "      <th></th>\n",
       "      <th></th>\n",
       "      <th></th>\n",
       "      <th></th>\n",
       "      <th></th>\n",
       "      <th></th>\n",
       "      <th></th>\n",
       "      <th></th>\n",
       "      <th></th>\n",
       "      <th></th>\n",
       "      <th></th>\n",
       "      <th></th>\n",
       "    </tr>\n",
       "  </thead>\n",
       "  <tbody>\n",
       "    <tr>\n",
       "      <th>Wartune Reborn</th>\n",
       "      <td>1.000000</td>\n",
       "      <td>0.326435</td>\n",
       "      <td>0.845399</td>\n",
       "      <td>0.977848</td>\n",
       "      <td>0.886340</td>\n",
       "      <td>0.897066</td>\n",
       "      <td>0.961432</td>\n",
       "      <td>0.968365</td>\n",
       "      <td>0.931844</td>\n",
       "      <td>0.992783</td>\n",
       "      <td>...</td>\n",
       "      <td>0.132336</td>\n",
       "      <td>0.195325</td>\n",
       "      <td>0.669748</td>\n",
       "      <td>0.828459</td>\n",
       "      <td>0.704412</td>\n",
       "      <td>0.274610</td>\n",
       "      <td>0.252481</td>\n",
       "      <td>0.016647</td>\n",
       "      <td>0.822330</td>\n",
       "      <td>0.166967</td>\n",
       "    </tr>\n",
       "    <tr>\n",
       "      <th>TD Worlds</th>\n",
       "      <td>0.326435</td>\n",
       "      <td>1.000000</td>\n",
       "      <td>0.615432</td>\n",
       "      <td>0.384974</td>\n",
       "      <td>0.339470</td>\n",
       "      <td>0.341706</td>\n",
       "      <td>0.313191</td>\n",
       "      <td>0.334256</td>\n",
       "      <td>0.328448</td>\n",
       "      <td>0.407450</td>\n",
       "      <td>...</td>\n",
       "      <td>0.907618</td>\n",
       "      <td>0.215242</td>\n",
       "      <td>0.348604</td>\n",
       "      <td>0.352642</td>\n",
       "      <td>0.346576</td>\n",
       "      <td>0.238196</td>\n",
       "      <td>0.970544</td>\n",
       "      <td>0.170921</td>\n",
       "      <td>0.614116</td>\n",
       "      <td>0.978376</td>\n",
       "    </tr>\n",
       "    <tr>\n",
       "      <th>MazM: Jekyll and Hyde</th>\n",
       "      <td>0.845399</td>\n",
       "      <td>0.615432</td>\n",
       "      <td>1.000000</td>\n",
       "      <td>0.915607</td>\n",
       "      <td>0.947803</td>\n",
       "      <td>0.938540</td>\n",
       "      <td>0.729938</td>\n",
       "      <td>0.918775</td>\n",
       "      <td>0.931952</td>\n",
       "      <td>0.846235</td>\n",
       "      <td>...</td>\n",
       "      <td>0.418654</td>\n",
       "      <td>0.300140</td>\n",
       "      <td>0.830469</td>\n",
       "      <td>0.920936</td>\n",
       "      <td>0.849246</td>\n",
       "      <td>0.438812</td>\n",
       "      <td>0.565411</td>\n",
       "      <td>0.195937</td>\n",
       "      <td>0.987263</td>\n",
       "      <td>0.471990</td>\n",
       "    </tr>\n",
       "  </tbody>\n",
       "</table>\n",
       "<p>3 rows × 17728 columns</p>\n",
       "</div>"
      ],
      "text/plain": [
       "                          0         1         2         3         4      \\\n",
       "Name                                                                      \n",
       "Wartune Reborn         1.000000  0.326435  0.845399  0.977848  0.886340   \n",
       "TD Worlds              0.326435  1.000000  0.615432  0.384974  0.339470   \n",
       "MazM: Jekyll and Hyde  0.845399  0.615432  1.000000  0.915607  0.947803   \n",
       "\n",
       "                          5         6         7         8         9      ...  \\\n",
       "Name                                                                     ...   \n",
       "Wartune Reborn         0.897066  0.961432  0.968365  0.931844  0.992783  ...   \n",
       "TD Worlds              0.341706  0.313191  0.334256  0.328448  0.407450  ...   \n",
       "MazM: Jekyll and Hyde  0.938540  0.729938  0.918775  0.931952  0.846235  ...   \n",
       "\n",
       "                          17718     17719     17720     17721     17722  \\\n",
       "Name                                                                      \n",
       "Wartune Reborn         0.132336  0.195325  0.669748  0.828459  0.704412   \n",
       "TD Worlds              0.907618  0.215242  0.348604  0.352642  0.346576   \n",
       "MazM: Jekyll and Hyde  0.418654  0.300140  0.830469  0.920936  0.849246   \n",
       "\n",
       "                          17723     17724     17725     17726     17727  \n",
       "Name                                                                     \n",
       "Wartune Reborn         0.274610  0.252481  0.016647  0.822330  0.166967  \n",
       "TD Worlds              0.238196  0.970544  0.170921  0.614116  0.978376  \n",
       "MazM: Jekyll and Hyde  0.438812  0.565411  0.195937  0.987263  0.471990  \n",
       "\n",
       "[3 rows x 17728 columns]"
      ]
     },
     "execution_count": 260,
     "metadata": {},
     "output_type": "execute_result"
    }
   ],
   "source": [
    "cosine_sim = cosine_similarity(df)\n",
    "cosine_sim_df = pd.DataFrame(cosine_sim, index=df.index)\n",
    "cosine_sim_df.head(3)"
   ]
  },
  {
   "cell_type": "code",
   "execution_count": null,
   "metadata": {},
   "outputs": [],
   "source": [
    "\n",
    "\n",
    "def CosineGameRecommended(gamename:str, recommended_games:int=5):\n",
    "  \n",
    "  arr, ind = np.unique(cosine_sim_df.loc[gamename], return_index=True)\n",
    "\n",
    "  similar_games = []\n",
    "  for index in ind[-(recommended_games+1):-1]:\n",
    "    similar_games.append(df.index[index])\n",
    "\n",
    "  cosine_score = []\n",
    "  for score in arr[-(recommended_games+1):-1]:\n",
    "    cosine_score.append(score)\n",
    "\n",
    "  return pd.DataFrame(data = {\"Game\" : similar_games, \"Cosine Similarity\" : cosine_score}).sort_values(by='Cosine Similarity')"
   ]
  },
  {
   "cell_type": "code",
   "execution_count": null,
   "metadata": {},
   "outputs": [
    {
     "data": {
      "text/html": [
       "<div>\n",
       "<style scoped>\n",
       "    .dataframe tbody tr th:only-of-type {\n",
       "        vertical-align: middle;\n",
       "    }\n",
       "\n",
       "    .dataframe tbody tr th {\n",
       "        vertical-align: top;\n",
       "    }\n",
       "\n",
       "    .dataframe thead th {\n",
       "        text-align: right;\n",
       "    }\n",
       "</style>\n",
       "<table border=\"1\" class=\"dataframe\">\n",
       "  <thead>\n",
       "    <tr style=\"text-align: right;\">\n",
       "      <th></th>\n",
       "      <th>Game</th>\n",
       "      <th>Cosine Similarity</th>\n",
       "    </tr>\n",
       "  </thead>\n",
       "  <tbody>\n",
       "    <tr>\n",
       "      <th>0</th>\n",
       "      <td>Generation Zero®</td>\n",
       "      <td>0.999989</td>\n",
       "    </tr>\n",
       "    <tr>\n",
       "      <th>1</th>\n",
       "      <td>Evolve Stage 2</td>\n",
       "      <td>0.999993</td>\n",
       "    </tr>\n",
       "    <tr>\n",
       "      <th>2</th>\n",
       "      <td>Propnight</td>\n",
       "      <td>0.999996</td>\n",
       "    </tr>\n",
       "    <tr>\n",
       "      <th>3</th>\n",
       "      <td>Digimon Masters Online</td>\n",
       "      <td>0.999999</td>\n",
       "    </tr>\n",
       "    <tr>\n",
       "      <th>4</th>\n",
       "      <td>Warface</td>\n",
       "      <td>0.999999</td>\n",
       "    </tr>\n",
       "  </tbody>\n",
       "</table>\n",
       "</div>"
      ],
      "text/plain": [
       "                     Game  Cosine Similarity\n",
       "0        Generation Zero®           0.999989\n",
       "1          Evolve Stage 2           0.999993\n",
       "2               Propnight           0.999996\n",
       "3  Digimon Masters Online           0.999999\n",
       "4                 Warface           0.999999"
      ]
     },
     "execution_count": 262,
     "metadata": {},
     "output_type": "execute_result"
    }
   ],
   "source": [
    "CosineGameRecommended('New World')"
   ]
  },
  {
   "cell_type": "code",
   "execution_count": null,
   "metadata": {},
   "outputs": [
    {
     "name": "stderr",
     "output_type": "stream",
     "text": [
      "c:\\Users\\dsouz\\anaconda3\\Lib\\site-packages\\sklearn\\base.py:464: UserWarning: X does not have valid feature names, but NearestNeighbors was fitted with feature names\n",
      "  warnings.warn(\n"
     ]
    },
    {
     "data": {
      "text/html": [
       "<div>\n",
       "<style scoped>\n",
       "    .dataframe tbody tr th:only-of-type {\n",
       "        vertical-align: middle;\n",
       "    }\n",
       "\n",
       "    .dataframe tbody tr th {\n",
       "        vertical-align: top;\n",
       "    }\n",
       "\n",
       "    .dataframe thead th {\n",
       "        text-align: right;\n",
       "    }\n",
       "</style>\n",
       "<table border=\"1\" class=\"dataframe\">\n",
       "  <thead>\n",
       "    <tr style=\"text-align: right;\">\n",
       "      <th></th>\n",
       "      <th>Game</th>\n",
       "      <th>Similarity</th>\n",
       "    </tr>\n",
       "  </thead>\n",
       "  <tbody>\n",
       "    <tr>\n",
       "      <th>0</th>\n",
       "      <td>No Man's Sky</td>\n",
       "      <td>31709.169115572866%</td>\n",
       "    </tr>\n",
       "    <tr>\n",
       "      <th>1</th>\n",
       "      <td>Lost Ark</td>\n",
       "      <td>42741.10588414974%</td>\n",
       "    </tr>\n",
       "    <tr>\n",
       "      <th>2</th>\n",
       "      <td>Sid Meier’s Civilization® VI</td>\n",
       "      <td>48868.443058890305%</td>\n",
       "    </tr>\n",
       "    <tr>\n",
       "      <th>3</th>\n",
       "      <td>VRChat</td>\n",
       "      <td>51675.956132422936%</td>\n",
       "    </tr>\n",
       "  </tbody>\n",
       "</table>\n",
       "</div>"
      ],
      "text/plain": [
       "                           Game           Similarity\n",
       "0                  No Man's Sky  31709.169115572866%\n",
       "1                      Lost Ark   42741.10588414974%\n",
       "2  Sid Meier’s Civilization® VI  48868.443058890305%\n",
       "3                        VRChat  51675.956132422936%"
      ]
     },
     "execution_count": 263,
     "metadata": {},
     "output_type": "execute_result"
    }
   ],
   "source": [
    "getRecommended('New World')"
   ]
  },
  {
   "cell_type": "code",
   "execution_count": null,
   "metadata": {},
   "outputs": [],
   "source": []
  }
 ],
 "metadata": {
  "kernelspec": {
   "display_name": "base",
   "language": "python",
   "name": "python3"
  },
  "language_info": {
   "codemirror_mode": {
    "name": "ipython",
    "version": 3
   },
   "file_extension": ".py",
   "mimetype": "text/x-python",
   "name": "python",
   "nbconvert_exporter": "python",
   "pygments_lexer": "ipython3",
   "version": "3.11.4"
  }
 },
 "nbformat": 4,
 "nbformat_minor": 2
}
