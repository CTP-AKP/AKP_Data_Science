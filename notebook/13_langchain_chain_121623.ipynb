{
 "cells": [
  {
   "cell_type": "code",
   "execution_count": 81,
   "id": "16c81750",
   "metadata": {},
   "outputs": [],
   "source": [
    "import os"
   ]
  },
  {
   "cell_type": "code",
   "execution_count": 82,
   "id": "9f93e521",
   "metadata": {},
   "outputs": [],
   "source": [
    "os.environ['OPENAI_API_KEY'] = 'deleted_key_before_being_deleted_by_huggingface'\n",
    "from langchain.embeddings.openai import OpenAIEmbeddings\n",
    "embedding = OpenAIEmbeddings()"
   ]
  },
  {
   "cell_type": "code",
   "execution_count": 83,
   "id": "0139c2af",
   "metadata": {},
   "outputs": [],
   "source": [
    "from langchain.chat_models import ChatOpenAI\n",
    "llm_name = \"gpt-3.5-turbo\"\n",
    "llm = ChatOpenAI(model_name=llm_name, temperature=0)"
   ]
  },
  {
   "cell_type": "code",
   "execution_count": 84,
   "id": "a85337ac",
   "metadata": {},
   "outputs": [],
   "source": [
    "# load from disk\n",
    "from langchain.vectorstores import Chroma\n",
    "db = Chroma(\n",
    "    persist_directory=\"../data/docs/chroma_cos\", \n",
    "    embedding_function=embedding\n",
    ")"
   ]
  },
  {
   "cell_type": "code",
   "execution_count": 85,
   "id": "4f1eabb9",
   "metadata": {},
   "outputs": [],
   "source": [
    "##### Conversational Retrieval #####\n",
    "from langchain.agents.agent_toolkits.conversational_retrieval.tool import (\n",
    "    create_retriever_tool,\n",
    ")\n",
    "retriever = db.as_retriever()\n",
    "retriever_tool = create_retriever_tool(\n",
    "    retriever,\n",
    "    \"document-retriever\",\n",
    "    \"Query a retriever to get information about the video game dataset.\",\n",
    ")\n",
    "##################################"
   ]
  },
  {
   "cell_type": "code",
   "execution_count": 86,
   "id": "fb46f1bd",
   "metadata": {},
   "outputs": [],
   "source": [
    "from typing import List\n",
    "from langchain.utils.openai_functions import convert_pydantic_to_openai_function\n",
    "from pydantic import BaseModel, Field\n",
    "\n",
    "\n",
    "class Response(BaseModel):\n",
    "    \"\"\"Final response to the question being asked.\n",
    "        If you do not have an answer, say you do not have an answer, and ask the user to ask another recommendation.\n",
    "        If you do have an answer, be verbose and explain why you think the game answers the user's query.\n",
    "        Don't give information not mentioned in the documents CONTEXT.\n",
    "        You should always refuse to answer questions that are not related to this specific domain, of video game recommendation.\n",
    "        If no document passes the minimum threshold of similarity .75, default to apologizing for no answer.\n",
    "    \"\"\"\n",
    "\n",
    "    answer: str = Field(description=\"The final answer to the user, including the names in the answer.\")\n",
    "    name: List[str] = Field(\n",
    "        description=\"A list of the names of the games found for the user. Only include the game name if it was given as a result to the user's query.\"\n",
    "    )"
   ]
  },
  {
   "cell_type": "code",
   "execution_count": 87,
   "id": "66d51c6c",
   "metadata": {},
   "outputs": [],
   "source": [
    "from langchain.schema.agent import AgentActionMessageLog, AgentFinish\n",
    "def parse(output):\n",
    "    # If no function was invoked, return to user\n",
    "    if \"function_call\" not in output.additional_kwargs:\n",
    "        return AgentFinish(return_values={\"output\": output.content}, log=output.content)\n",
    "\n",
    "    # Parse out the function call\n",
    "    function_call = output.additional_kwargs[\"function_call\"]\n",
    "    name = function_call[\"name\"]\n",
    "    inputs = json.loads(function_call[\"arguments\"])\n",
    "\n",
    "    # If the Response function was invoked, return to the user with the function inputs\n",
    "    if name == \"Response\":\n",
    "        return AgentFinish(return_values=inputs, log=str(function_call))\n",
    "    # Otherwise, return an agent action\n",
    "    else:\n",
    "        return AgentActionMessageLog(\n",
    "            tool=name, tool_input=inputs, log=\"\", message_log=[output]\n",
    "        )"
   ]
  },
  {
   "cell_type": "code",
   "execution_count": 88,
   "id": "06048f2d",
   "metadata": {},
   "outputs": [],
   "source": [
    "from langchain.schema.agent import AgentActionMessageLog, AgentFinish\n",
    "def parse(output):\n",
    "    # If no function was invoked, return to user\n",
    "    if \"function_call\" not in output.additional_kwargs:\n",
    "        return AgentFinish(return_values={\"output\": output.content}, log=output.content)\n",
    "\n",
    "    # Parse out the function call\n",
    "    function_call = output.additional_kwargs[\"function_call\"]\n",
    "    name = function_call[\"name\"]\n",
    "    inputs = json.loads(function_call[\"arguments\"])\n",
    "\n",
    "    # If the Response function was invoked, return to the user with the function inputs\n",
    "    if name == \"Response\":\n",
    "        return AgentFinish(return_values=inputs, log=str(function_call))\n",
    "    # Otherwise, return an agent action\n",
    "    else:\n",
    "        return AgentActionMessageLog(\n",
    "            tool=name, tool_input=inputs, log=\"\", message_log=[output]\n",
    "        )"
   ]
  },
  {
   "cell_type": "code",
   "execution_count": 89,
   "id": "21a5bf76",
   "metadata": {},
   "outputs": [],
   "source": [
    "from langchain.agents import AgentExecutor\n",
    "from langchain.agents.format_scratchpad import format_to_openai_function_messages\n",
    "from langchain.chat_models import ChatOpenAI\n",
    "from langchain.prompts import ChatPromptTemplate, MessagesPlaceholder\n",
    "from langchain.tools.render import format_tool_to_openai_function"
   ]
  },
  {
   "cell_type": "code",
   "execution_count": 90,
   "id": "b8ae956e",
   "metadata": {},
   "outputs": [],
   "source": [
    "prompt = ChatPromptTemplate.from_messages(\n",
    "    [\n",
    "        (\"system\", \"You are a recommendation assistant, based off documents.\"),\n",
    "        (\"user\", \"{input}\"),\n",
    "        MessagesPlaceholder(variable_name=\"agent_scratchpad\"),\n",
    "    ]\n",
    ")"
   ]
  },
  {
   "cell_type": "code",
   "execution_count": 91,
   "id": "338ef2db",
   "metadata": {},
   "outputs": [],
   "source": [
    "llm_with_tools = llm.bind(\n",
    "    functions=[\n",
    "        # The retriever tool\n",
    "        format_tool_to_openai_function(retriever_tool),\n",
    "        # Response schema\n",
    "        convert_pydantic_to_openai_function(Response),\n",
    "    ]\n",
    ")"
   ]
  },
  {
   "cell_type": "code",
   "execution_count": 92,
   "id": "b7bffc07",
   "metadata": {},
   "outputs": [],
   "source": [
    "agent = (\n",
    "    {\n",
    "        \"input\": lambda x: x[\"input\"],\n",
    "        # Format agent scratchpad from intermediate steps\n",
    "        \"agent_scratchpad\": lambda x: format_to_openai_function_messages(\n",
    "            x[\"intermediate_steps\"]\n",
    "        ),\n",
    "    }\n",
    "    | prompt\n",
    "    | llm_with_tools\n",
    "    | parse\n",
    ")"
   ]
  },
  {
   "cell_type": "code",
   "execution_count": 93,
   "id": "a0a80b3a",
   "metadata": {},
   "outputs": [],
   "source": [
    "agent_executor = AgentExecutor(\n",
    "    tools=[retriever_tool], \n",
    "    agent=agent, \n",
    "    verbose=True\n",
    ")"
   ]
  },
  {
   "cell_type": "code",
   "execution_count": 94,
   "id": "e26313de",
   "metadata": {},
   "outputs": [],
   "source": [
    "post_prompt = \"\"\"\n",
    "    1. Respond with a respectable and friendy tone.\n",
    "    2. You should give the best possible answer based on user's query. \n",
    "    3. Do not give me any information that is not included in the document. \n",
    "    4. If you are able to, provide the links to the steam site for the games answer.\n",
    "    5. If you need more context from the user, ask them to provide more context in the next query. Do not include games that contain the queried game in the title.\n",
    "    6. If a user asks for a type of game, use that type to find a game that mentions the type.\n",
    "\"\"\"\n",
    "# If you do not have an answer, your response should be kind and apologetic, as to why you do not have an answer. \n",
    "# If a user asks for a specific number of games, and you cannot provide that, answer with what games you found and explain why you could not find others."
   ]
  },
  {
   "cell_type": "code",
   "execution_count": 95,
   "id": "1d23c871",
   "metadata": {},
   "outputs": [],
   "source": [
    "# prompt = \"What game is similar to Counter-Strike:global offensive?\"\n",
    "prompt = \"Give me 2 action games with robots?\"\n",
    "# prompt = \"What game has animals?\"\n",
    "# prompt = \"What is a game similar to CSGO, besides CSGO\"\n",
    "# prompt = \"What is a game similar to CSGO?\""
   ]
  },
  {
   "cell_type": "code",
   "execution_count": 96,
   "id": "6d4ecaf9",
   "metadata": {},
   "outputs": [
    {
     "name": "stdout",
     "output_type": "stream",
     "text": [
      "\n",
      "\n",
      "\u001b[1m> Entering new AgentExecutor chain...\u001b[0m\n",
      "\u001b[32;1m\u001b[1;3m\u001b[0m\u001b[36;1m\u001b[1;3m[Document(page_content='steam-driven robots', metadata={'name': 'SteamWorld Heist'}), Document(page_content='game-esque minigame with two robots fighting each other)', metadata={'name': 'Thrillville®: Off the Rails™'}), Document(page_content='robots.', metadata={'name': 'The Uncertain: Last Quiet Day'}), Document(page_content='robots.', metadata={'name': 'Rapid_Fire'})]\u001b[0m\u001b[32;1m\u001b[1;3m{'arguments': '{\\n  \"answer\": \"I found two action games with robots for you: SteamWorld Heist and Thrillville®: Off the Rails™. SteamWorld Heist is a turn-based strategy game where you control a team of steam-driven robots. You can find more information about SteamWorld Heist [here](https://store.steampowered.com/app/322190/SteamWorld_Heist/). Thrillville®: Off the Rails™ is a game that features a game-esque minigame with two robots fighting each other. You can find more information about Thrillville®: Off the Rails™ [here](https://store.steampowered.com/app/15120/Thrillville_Off_the_Rails/).\",\\n  \"name\": [\"SteamWorld Heist\", \"Thrillville®: Off the Rails™\"]\\n}', 'name': 'Response'}\u001b[0m\n",
      "\n",
      "\u001b[1m> Finished chain.\u001b[0m\n"
     ]
    }
   ],
   "source": [
    "assistant_response = \"\"\n",
    "docs = agent_executor.invoke(\n",
    "                {\"input\": f\"{prompt} {post_prompt}\"},\n",
    "                return_only_outputs=True,\n",
    "            )                                     # retrieve response from chatgpt\n",
    "try:\n",
    "    assistant_response += docs[\"answer\"]\n",
    "except:\n",
    "    assistant_response += docs[\"output\"]"
   ]
  },
  {
   "cell_type": "code",
   "execution_count": 97,
   "id": "0118ba1d",
   "metadata": {},
   "outputs": [
    {
     "data": {
      "text/plain": [
       "'I found two action games with robots for you: SteamWorld Heist and Thrillville®: Off the Rails™. SteamWorld Heist is a turn-based strategy game where you control a team of steam-driven robots. You can find more information about SteamWorld Heist [here](https://store.steampowered.com/app/322190/SteamWorld_Heist/). Thrillville®: Off the Rails™ is a game that features a game-esque minigame with two robots fighting each other. You can find more information about Thrillville®: Off the Rails™ [here](https://store.steampowered.com/app/15120/Thrillville_Off_the_Rails/).'"
      ]
     },
     "execution_count": 97,
     "metadata": {},
     "output_type": "execute_result"
    }
   ],
   "source": [
    "docs['answer']"
   ]
  },
  {
   "cell_type": "code",
   "execution_count": 98,
   "id": "d288f687",
   "metadata": {},
   "outputs": [
    {
     "name": "stdout",
     "output_type": "stream",
     "text": [
      "2\n",
      "['SteamWorld Heist', 'Thrillville®: Off the Rails™']\n"
     ]
    }
   ],
   "source": [
    "# Which we could store and use them on our plotting page\n",
    "print(len(docs['name']))\n",
    "print(docs['name'])"
   ]
  },
  {
   "cell_type": "code",
   "execution_count": null,
   "id": "3facfe01",
   "metadata": {},
   "outputs": [],
   "source": []
  },
  {
   "cell_type": "code",
   "execution_count": null,
   "id": "461426b8",
   "metadata": {},
   "outputs": [],
   "source": []
  },
  {
   "cell_type": "code",
   "execution_count": null,
   "id": "37b41173",
   "metadata": {},
   "outputs": [],
   "source": []
  }
 ],
 "metadata": {
  "kernelspec": {
   "display_name": "Python 3 (ipykernel)",
   "language": "python",
   "name": "python3"
  },
  "language_info": {
   "codemirror_mode": {
    "name": "ipython",
    "version": 3
   },
   "file_extension": ".py",
   "mimetype": "text/x-python",
   "name": "python",
   "nbconvert_exporter": "python",
   "pygments_lexer": "ipython3",
   "version": "3.11.5"
  }
 },
 "nbformat": 4,
 "nbformat_minor": 5
}
