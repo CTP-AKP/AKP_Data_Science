{
 "cells": [
  {
   "cell_type": "markdown",
   "id": "f3cff1cf",
   "metadata": {},
   "source": [
    "## Introduction\n",
    "- I basically followed through the LangChain course on deep learning ai\n",
    "- working on my project \n",
    "- https://learn.deeplearning.ai/langchain-chat-with-your-data/lesson/4/vectorstores-and-embedding"
   ]
  },
  {
   "cell_type": "markdown",
   "id": "37d8cc6c",
   "metadata": {},
   "source": [
    "### Data visualization component\n",
    "- I tried to deploy my visualization tool on game data\n",
    "- deployed on Huggingface\n",
    "- the Langchain component part is not yet deployed\n",
    "- https://huggingface.co/spaces/po5302006/ForcaSteam"
   ]
  },
  {
   "cell_type": "code",
   "execution_count": 7,
   "id": "487a0bbd",
   "metadata": {
    "scrolled": true
   },
   "outputs": [],
   "source": [
    "import pandas as pd"
   ]
  },
  {
   "cell_type": "code",
   "execution_count": 8,
   "id": "94f1fac9",
   "metadata": {},
   "outputs": [
    {
     "name": "stdout",
     "output_type": "stream",
     "text": [
      "0    Vanguard Princess (ヴァンガードプリンセス, Vangaado Purin...\n",
      "Name: content, dtype: object\n"
     ]
    },
    {
     "data": {
      "text/html": [
       "<div>\n",
       "<style scoped>\n",
       "    .dataframe tbody tr th:only-of-type {\n",
       "        vertical-align: middle;\n",
       "    }\n",
       "\n",
       "    .dataframe tbody tr th {\n",
       "        vertical-align: top;\n",
       "    }\n",
       "\n",
       "    .dataframe thead th {\n",
       "        text-align: right;\n",
       "    }\n",
       "</style>\n",
       "<table border=\"1\" class=\"dataframe\">\n",
       "  <thead>\n",
       "    <tr style=\"text-align: right;\">\n",
       "      <th></th>\n",
       "      <th>name</th>\n",
       "      <th>content</th>\n",
       "    </tr>\n",
       "  </thead>\n",
       "  <tbody>\n",
       "    <tr>\n",
       "      <th>0</th>\n",
       "      <td>Vanguard Princess</td>\n",
       "      <td>Vanguard Princess (ヴァンガードプリンセス, Vangaado Purin...</td>\n",
       "    </tr>\n",
       "    <tr>\n",
       "      <th>1</th>\n",
       "      <td>Deadfall Adventures</td>\n",
       "      <td>Deadfall Adventures is an action-adventure vid...</td>\n",
       "    </tr>\n",
       "    <tr>\n",
       "      <th>2</th>\n",
       "      <td>Reigns: Game of Thrones</td>\n",
       "      <td>Reigns: Game of Thrones is a 2018 strategy gam...</td>\n",
       "    </tr>\n",
       "    <tr>\n",
       "      <th>3</th>\n",
       "      <td>Far Cry® 5</td>\n",
       "      <td>Far Cry 5 is a 2018 first-person shooter, deve...</td>\n",
       "    </tr>\n",
       "    <tr>\n",
       "      <th>4</th>\n",
       "      <td>Forza Horizon 4</td>\n",
       "      <td>Forza Horizon 4 is a 2018 racing video game de...</td>\n",
       "    </tr>\n",
       "  </tbody>\n",
       "</table>\n",
       "</div>"
      ],
      "text/plain": [
       "                      name                                            content\n",
       "0        Vanguard Princess  Vanguard Princess (ヴァンガードプリンセス, Vangaado Purin...\n",
       "1      Deadfall Adventures  Deadfall Adventures is an action-adventure vid...\n",
       "2  Reigns: Game of Thrones  Reigns: Game of Thrones is a 2018 strategy gam...\n",
       "3               Far Cry® 5  Far Cry 5 is a 2018 first-person shooter, deve...\n",
       "4          Forza Horizon 4  Forza Horizon 4 is a 2018 racing video game de..."
      ]
     },
     "execution_count": 8,
     "metadata": {},
     "output_type": "execute_result"
    }
   ],
   "source": [
    "df = pd.read_csv('../data/name_content_2.csv')\n",
    "df.dtypes\n",
    "print(df.head(1)['content'])\n",
    "df.head()"
   ]
  },
  {
   "cell_type": "code",
   "execution_count": 10,
   "id": "13339fe4",
   "metadata": {},
   "outputs": [],
   "source": [
    "from langchain.document_loaders import DataFrameLoader\n",
    "loader = DataFrameLoader(df, page_content_column=\"content\")\n",
    "pages = loader.load()"
   ]
  },
  {
   "cell_type": "code",
   "execution_count": 11,
   "id": "d9d6efba",
   "metadata": {},
   "outputs": [
    {
     "name": "stdout",
     "output_type": "stream",
     "text": [
      "page_content='Vanguard Princess (ヴァンガードプリンセス, Vangaado Purinsesu), also known as Vanguard Princess: Senjin no Himegimi (ヴァンガードプリンセス 先陣の姫君) is a Japanese dōjin 2D fighting game for Windows and Linux, developed by a single programmer and illustrator Tomoaki Sugeno nicknamed Suge9. The game was created using Fighter Maker 2nd was released for PC on June 26, 2009, and April 10, 2013, for OnLive.\\n\\n\\n== Gameplay ==\\nVanguard Princess is a 2D fighting game featuring an all-female cast. The player selects both a fighter and a support character, who follows the fighter and can assist her.\\n\\n\\n== Plot ==\\nA mysterious woman with supernatural powers (the game\\'s boss) is captured by the government. Her powers are accidentally unleashed, bestowing various young women with magical powers.\\n\\n\\n== Development and release ==\\nVanguard Princess was fully developed by Tomoaki Sugeno (or Suge9), an ex-Capcom sprite designer who worked in games like Resident Evil 3: Nemesis and made character sprites for The King of Fighters EX: Neo Blood. Sugeno uses Fighter Maker 2nd for his work, a popular graphic engine for Windows by ASCII. Sugeno designed and illustrated the game by himself, but the music was taken from \"nash music library\", a royalty-free library of songs. Sugeno also used voice actors to record the voices for all the characters. Sugeno planned a future update called Vanguard Princess Prime which would introduce a new character named Rikako but has since ceased development on it.An English version was released by eigoMANGA in February 2013 on Amazon.com to North America and Europe. They released a cloud version of the game on the Onlive game service in April 2013. A notable difference in the English version is that the game edits the explicit content in the original Japanese version. The English version also unlocks Hilda as a playable support character. A downloadable PC version of the game was released via Steam on March 3, 2014, after being Greenlit by the community. This version comes with the original English release, plus a free, optional Director\\'s Cut add-on, which returns previously removed content to the game.\\n\\n\\n== Reception ==\\nAfter the official release, Vanguard Princess was initially picked up on by video game websites such as Daiken, Kotaku and Siliconera. Later it was reported by Famitsu and IT+Media.\\n\\n\\n== See also ==\\nList of fighting games\\n\\n\\n== References ==\\n\\n\\n== External links ==\\nOfficial website\\nOfficial website (in Japanese)\\nVanguard Princess wiki' metadata={'name': 'Vanguard Princess'}\n"
     ]
    }
   ],
   "source": [
    "# each page is a piece of game description\n",
    "# metadata is the gamename\n",
    "page = pages[0]\n",
    "print(page)"
   ]
  },
  {
   "cell_type": "markdown",
   "id": "0ac67cc2",
   "metadata": {},
   "source": [
    "### Text splitter on token"
   ]
  },
  {
   "cell_type": "code",
   "execution_count": 12,
   "id": "93c076f6",
   "metadata": {},
   "outputs": [],
   "source": [
    "from langchain.text_splitter import TokenTextSplitter\n",
    "from langchain.text_splitter import RecursiveCharacterTextSplitter, CharacterTextSplitter"
   ]
  },
  {
   "cell_type": "code",
   "execution_count": 13,
   "id": "37d2cc3c",
   "metadata": {},
   "outputs": [],
   "source": [
    "# Split on chunks with 10 tokens\n",
    "text_splitter = TokenTextSplitter(chunk_size=10, chunk_overlap=0)\n",
    "docs = text_splitter.split_documents(pages)"
   ]
  },
  {
   "cell_type": "code",
   "execution_count": 14,
   "id": "4fa660c2",
   "metadata": {},
   "outputs": [],
   "source": [
    "# Split in chunks in sentences\n",
    "# recursive splitter\n",
    "r_splitter = RecursiveCharacterTextSplitter(\n",
    "    chunk_size=150,\n",
    "    chunk_overlap=0,\n",
    "    separators=[\",\", \"(?<=\\. )\", \"\\n\\n\", \"\\n\", \" \", \"\"]\n",
    "#     separators=[\"\\n\\n\", \"\\n\", \"(?<=\\. )\", \" \", \"\"]\n",
    ")\n",
    "r_docs = r_splitter.split_documents(pages)"
   ]
  },
  {
   "cell_type": "code",
   "execution_count": 17,
   "id": "b9dccaa9",
   "metadata": {},
   "outputs": [
    {
     "name": "stdout",
     "output_type": "stream",
     "text": [
      "4932\n",
      "499955\n",
      "page_content=', developed by a single programmer and illustrator Tomoaki Sugeno nicknamed Suge9. The game was created using Fighter Maker 2nd was released for PC on' metadata={'name': 'Vanguard Princess'}\n",
      "{'name': 'Vanguard Princess'}\n"
     ]
    }
   ],
   "source": [
    "print(len(pages))\n",
    "print(len(r_docs))\n",
    "print(r_docs[2])\n",
    "print(r_docs[2].metadata)"
   ]
  },
  {
   "cell_type": "markdown",
   "id": "1ddc5d4d",
   "metadata": {},
   "source": [
    "### Embedding"
   ]
  },
  {
   "cell_type": "code",
   "execution_count": 18,
   "id": "05514b1a",
   "metadata": {},
   "outputs": [],
   "source": [
    "from langchain.embeddings.sentence_transformer import SentenceTransformerEmbeddings\n",
    "embedding = SentenceTransformerEmbeddings(model_name=\"all-MiniLM-L6-v2\")\n",
    "from langchain.vectorstores import Chroma"
   ]
  },
  {
   "cell_type": "code",
   "execution_count": 19,
   "id": "e6cd77dc",
   "metadata": {},
   "outputs": [
    {
     "name": "stdout",
     "output_type": "stream",
     "text": [
      "Microsoft Windows [Version 10.0.22621.2715]\n",
      "(c) Microsoft Corporation. All rights reserved.\n",
      "\n",
      "C:\\Users\\po530\\Documents\\GitHub\\AKP_Data_Science\\notebook>rmdir -rf ../data/docs/chroma\n",
      "\n"
     ]
    },
    {
     "name": "stderr",
     "output_type": "stream",
     "text": [
      "Invalid switch - \"data\".\r\n"
     ]
    },
    {
     "name": "stdout",
     "output_type": "stream",
     "text": [
      "C:\\Users\\po530\\Documents\\GitHub\\AKP_Data_Science\\notebook>"
     ]
    }
   ],
   "source": [
    "%%cmd\n",
    "rmdir -rf ../data/docs/chroma"
   ]
  },
  {
   "cell_type": "code",
   "execution_count": 21,
   "id": "6b6a9363",
   "metadata": {},
   "outputs": [],
   "source": [
    "persist_directory = '../data/docs/chroma/'"
   ]
  },
  {
   "cell_type": "code",
   "execution_count": 22,
   "id": "3fd5d2f4",
   "metadata": {},
   "outputs": [],
   "source": [
    "# will take around 5 mins of embedding\n",
    "db = Chroma.from_documents(\n",
    "    documents=r_docs,\n",
    "    embedding=embedding,\n",
    "    persist_directory=persist_directory\n",
    ")"
   ]
  },
  {
   "cell_type": "code",
   "execution_count": 23,
   "id": "6343126d",
   "metadata": {},
   "outputs": [],
   "source": [
    "# query = \"What game is similar to Counter-Strike:global offensive?\"\n",
    "query = \"Which game is CSGO?\"\n",
    "# query = \"What game has animals?\"\n",
    "# query = \"What is a game similar to CSGO, besides CSGO\"\n",
    "# query = \"What is a game similar to CSGO?\"\n",
    "docs = db.similarity_search(query, k=3)"
   ]
  },
  {
   "cell_type": "code",
   "execution_count": null,
   "id": "d68fbf16",
   "metadata": {},
   "outputs": [],
   "source": [
    "# load from disk\n",
    "db_load = Chroma(\n",
    "    persist_directory=\"../data/docs/chroma\", \n",
    "    embedding_function=embedding\n",
    ")"
   ]
  },
  {
   "cell_type": "code",
   "execution_count": 24,
   "id": "5d768379",
   "metadata": {
    "scrolled": true
   },
   "outputs": [
    {
     "name": "stdout",
     "output_type": "stream",
     "text": [
      ", macOS and Microsoft Windows. The game was first unveiled at GDC 2013 and was released in early access the following year on January 10, 2014\n",
      "{'name': 'Turbo Dismount™'}\n"
     ]
    }
   ],
   "source": [
    "print(docs[0].page_content)\n",
    "print(docs[0].metadata)"
   ]
  },
  {
   "cell_type": "code",
   "execution_count": 16,
   "id": "ce240e67",
   "metadata": {},
   "outputs": [
    {
     "name": "stdout",
     "output_type": "stream",
     "text": [
      ", 2017. The game features classic MMORPG gameplay and is set in a world inspired by the books of the Chinese fantasy author Jiang Nan. Revelation\n",
      "{'name': 'Revelation Online'}\n",
      "[Document(page_content=', 2017. The game features classic MMORPG gameplay and is set in a world inspired by the books of the Chinese fantasy author Jiang Nan. Revelation', metadata={'name': 'Revelation Online'}), Document(page_content='Metro video game series', metadata={'name': 'Metro Exodus'}), Document(page_content=', PlayStation 4 and Microsoft Windows based on the Sword Art Online light novel series. It is the third video game in the series and is the successor', metadata={'name': 'Sword Art Online: Lost Song'})]\n"
     ]
    }
   ],
   "source": [
    "docs = db.max_marginal_relevance_search(query,k=3, fetch_k=10)\n",
    "print(docs[0].page_content)\n",
    "print(docs[0].metadata)\n",
    "print(docs)"
   ]
  },
  {
   "cell_type": "code",
   "execution_count": 17,
   "id": "62a6eb63",
   "metadata": {},
   "outputs": [],
   "source": [
    "from langchain.chains.query_constructor.base import AttributeInfo\n",
    "from langchain.chat_models import ChatOpenAI\n",
    "from langchain.retrievers.self_query.base import SelfQueryRetriever\n",
    "\n",
    "from langchain.llms import Cohere, HuggingFaceHub, OpenAI"
   ]
  },
  {
   "cell_type": "code",
   "execution_count": 18,
   "id": "c31aafa5",
   "metadata": {},
   "outputs": [],
   "source": [
    "metadata_field_info = [\n",
    "#     AttributeInfo(\n",
    "#         name=\"genre\",\n",
    "#         description=\"The genre of the video game. One of ['science fiction', 'comedy', 'drama', 'thriller', 'romance', 'action', 'animated']\",\n",
    "#         type=\"string\",\n",
    "#     ),\n",
    "    AttributeInfo(\n",
    "        name=\"year\",\n",
    "        description=\"The year the video game was released\",\n",
    "        type=\"integer\",\n",
    "    ),\n",
    "    AttributeInfo(\n",
    "        name=\"rating\", description=\"A 1-10 rating for the video game\", \n",
    "        type=\"float\"\n",
    "    ),\n",
    "]\n",
    "document_content_description = \"Brief summary of a video game\"\n",
    "llm = Cohere\n",
    "# llm = HuggingFaceHub\n",
    "# llm = ChatOpenAI(temperature=0)"
   ]
  },
  {
   "cell_type": "code",
   "execution_count": 19,
   "id": "7856ed1a",
   "metadata": {},
   "outputs": [
    {
     "ename": "ImportError",
     "evalue": "Cannot import lark, please install it with 'pip install lark'.",
     "output_type": "error",
     "traceback": [
      "\u001b[1;31m---------------------------------------------------------------------------\u001b[0m",
      "\u001b[1;31mImportError\u001b[0m                               Traceback (most recent call last)",
      "Cell \u001b[1;32mIn[19], line 1\u001b[0m\n\u001b[1;32m----> 1\u001b[0m retriever \u001b[38;5;241m=\u001b[39m SelfQueryRetriever\u001b[38;5;241m.\u001b[39mfrom_llm(\n\u001b[0;32m      2\u001b[0m     llm,\n\u001b[0;32m      3\u001b[0m     db,\n\u001b[0;32m      4\u001b[0m     document_content_description,\n\u001b[0;32m      5\u001b[0m     metadata_field_info,\n\u001b[0;32m      6\u001b[0m )\n",
      "File \u001b[1;32m~\\anaconda3\\Lib\\site-packages\\langchain\\retrievers\\self_query\\base.py:225\u001b[0m, in \u001b[0;36mSelfQueryRetriever.from_llm\u001b[1;34m(cls, llm, vectorstore, document_contents, metadata_field_info, structured_query_translator, chain_kwargs, enable_limit, use_original_query, **kwargs)\u001b[0m\n\u001b[0;32m    218\u001b[0m \u001b[38;5;28;01mif\u001b[39;00m (\n\u001b[0;32m    219\u001b[0m     \u001b[38;5;124m\"\u001b[39m\u001b[38;5;124mallowed_operators\u001b[39m\u001b[38;5;124m\"\u001b[39m \u001b[38;5;129;01mnot\u001b[39;00m \u001b[38;5;129;01min\u001b[39;00m chain_kwargs\n\u001b[0;32m    220\u001b[0m     \u001b[38;5;129;01mand\u001b[39;00m structured_query_translator\u001b[38;5;241m.\u001b[39mallowed_operators \u001b[38;5;129;01mis\u001b[39;00m \u001b[38;5;129;01mnot\u001b[39;00m \u001b[38;5;28;01mNone\u001b[39;00m\n\u001b[0;32m    221\u001b[0m ):\n\u001b[0;32m    222\u001b[0m     chain_kwargs[\n\u001b[0;32m    223\u001b[0m         \u001b[38;5;124m\"\u001b[39m\u001b[38;5;124mallowed_operators\u001b[39m\u001b[38;5;124m\"\u001b[39m\n\u001b[0;32m    224\u001b[0m     ] \u001b[38;5;241m=\u001b[39m structured_query_translator\u001b[38;5;241m.\u001b[39mallowed_operators\n\u001b[1;32m--> 225\u001b[0m query_constructor \u001b[38;5;241m=\u001b[39m load_query_constructor_runnable(\n\u001b[0;32m    226\u001b[0m     llm,\n\u001b[0;32m    227\u001b[0m     document_contents,\n\u001b[0;32m    228\u001b[0m     metadata_field_info,\n\u001b[0;32m    229\u001b[0m     enable_limit\u001b[38;5;241m=\u001b[39menable_limit,\n\u001b[0;32m    230\u001b[0m     \u001b[38;5;241m*\u001b[39m\u001b[38;5;241m*\u001b[39mchain_kwargs,\n\u001b[0;32m    231\u001b[0m )\n\u001b[0;32m    232\u001b[0m \u001b[38;5;28;01mreturn\u001b[39;00m \u001b[38;5;28mcls\u001b[39m(\n\u001b[0;32m    233\u001b[0m     query_constructor\u001b[38;5;241m=\u001b[39mquery_constructor,\n\u001b[0;32m    234\u001b[0m     vectorstore\u001b[38;5;241m=\u001b[39mvectorstore,\n\u001b[1;32m   (...)\u001b[0m\n\u001b[0;32m    237\u001b[0m     \u001b[38;5;241m*\u001b[39m\u001b[38;5;241m*\u001b[39mkwargs,\n\u001b[0;32m    238\u001b[0m )\n",
      "File \u001b[1;32m~\\anaconda3\\Lib\\site-packages\\langchain\\chains\\query_constructor\\base.py:357\u001b[0m, in \u001b[0;36mload_query_constructor_runnable\u001b[1;34m(llm, document_contents, attribute_info, examples, allowed_comparators, allowed_operators, enable_limit, schema_prompt, fix_invalid, **kwargs)\u001b[0m\n\u001b[0;32m    353\u001b[0m \u001b[38;5;28;01mfor\u001b[39;00m ainfo \u001b[38;5;129;01min\u001b[39;00m attribute_info:\n\u001b[0;32m    354\u001b[0m     allowed_attributes\u001b[38;5;241m.\u001b[39mappend(\n\u001b[0;32m    355\u001b[0m         ainfo\u001b[38;5;241m.\u001b[39mname \u001b[38;5;28;01mif\u001b[39;00m \u001b[38;5;28misinstance\u001b[39m(ainfo, AttributeInfo) \u001b[38;5;28;01melse\u001b[39;00m ainfo[\u001b[38;5;124m\"\u001b[39m\u001b[38;5;124mname\u001b[39m\u001b[38;5;124m\"\u001b[39m]\n\u001b[0;32m    356\u001b[0m     )\n\u001b[1;32m--> 357\u001b[0m output_parser \u001b[38;5;241m=\u001b[39m StructuredQueryOutputParser\u001b[38;5;241m.\u001b[39mfrom_components(\n\u001b[0;32m    358\u001b[0m     allowed_comparators\u001b[38;5;241m=\u001b[39mallowed_comparators,\n\u001b[0;32m    359\u001b[0m     allowed_operators\u001b[38;5;241m=\u001b[39mallowed_operators,\n\u001b[0;32m    360\u001b[0m     allowed_attributes\u001b[38;5;241m=\u001b[39mallowed_attributes,\n\u001b[0;32m    361\u001b[0m     fix_invalid\u001b[38;5;241m=\u001b[39mfix_invalid,\n\u001b[0;32m    362\u001b[0m )\n\u001b[0;32m    363\u001b[0m \u001b[38;5;28;01mreturn\u001b[39;00m prompt \u001b[38;5;241m|\u001b[39m llm \u001b[38;5;241m|\u001b[39m output_parser\n",
      "File \u001b[1;32m~\\anaconda3\\Lib\\site-packages\\langchain\\chains\\query_constructor\\base.py:99\u001b[0m, in \u001b[0;36mStructuredQueryOutputParser.from_components\u001b[1;34m(cls, allowed_comparators, allowed_operators, allowed_attributes, fix_invalid)\u001b[0m\n\u001b[0;32m     96\u001b[0m         \u001b[38;5;28;01mreturn\u001b[39;00m fixed\n\u001b[0;32m     98\u001b[0m \u001b[38;5;28;01melse\u001b[39;00m:\n\u001b[1;32m---> 99\u001b[0m     ast_parse \u001b[38;5;241m=\u001b[39m get_parser(\n\u001b[0;32m    100\u001b[0m         allowed_comparators\u001b[38;5;241m=\u001b[39mallowed_comparators,\n\u001b[0;32m    101\u001b[0m         allowed_operators\u001b[38;5;241m=\u001b[39mallowed_operators,\n\u001b[0;32m    102\u001b[0m         allowed_attributes\u001b[38;5;241m=\u001b[39mallowed_attributes,\n\u001b[0;32m    103\u001b[0m     )\u001b[38;5;241m.\u001b[39mparse\n\u001b[0;32m    104\u001b[0m \u001b[38;5;28;01mreturn\u001b[39;00m \u001b[38;5;28mcls\u001b[39m(ast_parse\u001b[38;5;241m=\u001b[39mast_parse)\n",
      "File \u001b[1;32m~\\anaconda3\\Lib\\site-packages\\langchain\\chains\\query_constructor\\parser.py:174\u001b[0m, in \u001b[0;36mget_parser\u001b[1;34m(allowed_comparators, allowed_operators, allowed_attributes)\u001b[0m\n\u001b[0;32m    172\u001b[0m \u001b[38;5;66;03m# QueryTransformer is None when Lark cannot be imported.\u001b[39;00m\n\u001b[0;32m    173\u001b[0m \u001b[38;5;28;01mif\u001b[39;00m QueryTransformer \u001b[38;5;129;01mis\u001b[39;00m \u001b[38;5;28;01mNone\u001b[39;00m:\n\u001b[1;32m--> 174\u001b[0m     \u001b[38;5;28;01mraise\u001b[39;00m \u001b[38;5;167;01mImportError\u001b[39;00m(\n\u001b[0;32m    175\u001b[0m         \u001b[38;5;124m\"\u001b[39m\u001b[38;5;124mCannot import lark, please install it with \u001b[39m\u001b[38;5;124m'\u001b[39m\u001b[38;5;124mpip install lark\u001b[39m\u001b[38;5;124m'\u001b[39m\u001b[38;5;124m.\u001b[39m\u001b[38;5;124m\"\u001b[39m\n\u001b[0;32m    176\u001b[0m     )\n\u001b[0;32m    177\u001b[0m transformer \u001b[38;5;241m=\u001b[39m QueryTransformer(\n\u001b[0;32m    178\u001b[0m     allowed_comparators\u001b[38;5;241m=\u001b[39mallowed_comparators,\n\u001b[0;32m    179\u001b[0m     allowed_operators\u001b[38;5;241m=\u001b[39mallowed_operators,\n\u001b[0;32m    180\u001b[0m     allowed_attributes\u001b[38;5;241m=\u001b[39mallowed_attributes,\n\u001b[0;32m    181\u001b[0m )\n\u001b[0;32m    182\u001b[0m \u001b[38;5;28;01mreturn\u001b[39;00m Lark(GRAMMAR, parser\u001b[38;5;241m=\u001b[39m\u001b[38;5;124m\"\u001b[39m\u001b[38;5;124mlalr\u001b[39m\u001b[38;5;124m\"\u001b[39m, transformer\u001b[38;5;241m=\u001b[39mtransformer, start\u001b[38;5;241m=\u001b[39m\u001b[38;5;124m\"\u001b[39m\u001b[38;5;124mprogram\u001b[39m\u001b[38;5;124m\"\u001b[39m)\n",
      "\u001b[1;31mImportError\u001b[0m: Cannot import lark, please install it with 'pip install lark'."
     ]
    }
   ],
   "source": [
    "retriever = SelfQueryRetriever.from_llm(\n",
    "    llm,\n",
    "    db,\n",
    "    document_content_description,\n",
    "    metadata_field_info,\n",
    ")"
   ]
  },
  {
   "cell_type": "code",
   "execution_count": null,
   "id": "947c17df",
   "metadata": {},
   "outputs": [],
   "source": [
    "docs = retriever.get_relevant_documents(question)"
   ]
  },
  {
   "cell_type": "code",
   "execution_count": null,
   "id": "85304440",
   "metadata": {},
   "outputs": [],
   "source": []
  },
  {
   "cell_type": "code",
   "execution_count": null,
   "id": "3557334c",
   "metadata": {
    "scrolled": true
   },
   "outputs": [],
   "source": []
  },
  {
   "cell_type": "code",
   "execution_count": null,
   "id": "9cd3d72b",
   "metadata": {},
   "outputs": [],
   "source": []
  },
  {
   "cell_type": "code",
   "execution_count": null,
   "id": "3dd3bb81",
   "metadata": {},
   "outputs": [],
   "source": []
  },
  {
   "cell_type": "code",
   "execution_count": null,
   "id": "1b2e3a42",
   "metadata": {},
   "outputs": [],
   "source": []
  }
 ],
 "metadata": {
  "kernelspec": {
   "display_name": "Python 3 (ipykernel)",
   "language": "python",
   "name": "python3"
  },
  "language_info": {
   "codemirror_mode": {
    "name": "ipython",
    "version": 3
   },
   "file_extension": ".py",
   "mimetype": "text/x-python",
   "name": "python",
   "nbconvert_exporter": "python",
   "pygments_lexer": "ipython3",
   "version": "3.11.5"
  }
 },
 "nbformat": 4,
 "nbformat_minor": 5
}
